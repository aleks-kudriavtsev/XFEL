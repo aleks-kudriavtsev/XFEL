{
 "cells": [
  {
   "cell_type": "code",
   "execution_count": 5,
   "metadata": {},
   "outputs": [],
   "source": [
    "M = 22\n",
    "N = 36\n",
    "z = 0\n",
    "\n",
    "C = [0]\n",
    "for i in range(1,M*2):\n",
    "    if not i%2:\n",
    "        C.append(round(C[i-1]+1.40450, 5))\n",
    "    else:\n",
    "        C.append(round(C[i-1]+2.809, 5))\n",
    "\n",
    "R = [0.70225]\n",
    "for i in range(1,M*2):\n",
    "    if i%2:\n",
    "        R.append(round(R[i-1]+1.40450, 5))\n",
    "    else:\n",
    "        R.append(round(R[i-1]+2.809, 5))       \n",
    "\n",
    "U = [round(i*1.21640, 5) for i in range(0,N*2+1)]\n",
    "\n",
    "X = []\n",
    "\n",
    "for i in range(0,N*2+1):\n",
    "    if i == 0:\n",
    "        X.append([U[i], R])\n",
    "    elif i == 1:\n",
    "        X.append([U[i],C])\n",
    "    elif i == 2:\n",
    "        X.append([U[i],R])\n",
    "    elif i % 2:\n",
    "        X.append([U[i],C])\n",
    "        X.append([U[i+1],R])\n",
    "\n",
    "xyz = []\n",
    "for i in X:\n",
    "    x = i[0]\n",
    "    for j in i[1]:\n",
    "        y = j\n",
    "        xyz.append([x,y,z])\n",
    "        \n",
    "amounts = str(len(xyz))\n",
    "name = str(f'{M} x {N} = {M*N} cycles')\n",
    "handle = open(f\"{name}.xyz\", \"w\")\n",
    "handle.write(f'{amounts}\\n')\n",
    "handle.write(f'{name}\\n')\n",
    "\n",
    "for i in xyz:       \n",
    "    x = '%.5f' % i[0]\n",
    "    y = '%.5f' % i[1]\n",
    "    z = '%.5f' % i[2]\n",
    "    output = f\"C{(17 - len(x)-2) * ' '}{x}{(15-2-len(y))* ' '}{y}{(15 - 2 - len(z)) * ' '}{z}\\n\"\n",
    "    handle.write(output)\n",
    "\n",
    "handle.close()"
   ]
  },
  {
   "cell_type": "code",
   "execution_count": null,
   "metadata": {},
   "outputs": [],
   "source": []
  }
 ],
 "metadata": {
  "kernelspec": {
   "display_name": "Python 3",
   "language": "python",
   "name": "python3"
  },
  "language_info": {
   "codemirror_mode": {
    "name": "ipython",
    "version": 3
   },
   "file_extension": ".py",
   "mimetype": "text/x-python",
   "name": "python",
   "nbconvert_exporter": "python",
   "pygments_lexer": "ipython3",
   "version": "3.6.9"
  }
 },
 "nbformat": 4,
 "nbformat_minor": 4
}
